{
 "cells": [
  {
   "cell_type": "code",
   "execution_count": 1,
   "metadata": {},
   "outputs": [],
   "source": [
    "import torch\n",
    "import torchvision\n",
    "from torch.utils.data import Dataset, DataLoader\n",
    "import torchvision.transforms as transforms\n",
    "from torch.distributions import Dirichlet\n",
    "import numpy as np\n",
    "import torch.nn as nn\n",
    "import torch.nn.functional as F\n",
    "import math\n",
    "import matplotlib.pyplot as plt\n",
    "import os"
   ]
  },
  {
   "cell_type": "code",
   "execution_count": 2,
   "metadata": {},
   "outputs": [],
   "source": [
    "from typing import List\n",
    "\n",
    "import torch as ch\n",
    "import torchvision\n",
    "\n",
    "from ffcv.fields import IntField, RGBImageField, FloatField\n",
    "from ffcv.fields.decoders import IntDecoder, SimpleRGBImageDecoder, FloatDecoder\n",
    "from ffcv.loader import Loader, OrderOption\n",
    "from ffcv.pipeline.operation import Operation\n",
    "from ffcv.transforms import RandomHorizontalFlip, Cutout, \\\n",
    "    RandomTranslate, Convert, ToDevice, ToTensor, ToTorchImage\n",
    "from ffcv.transforms.common import Squeeze\n",
    "from ffcv.writer import DatasetWriter"
   ]
  },
  {
   "cell_type": "code",
   "execution_count": 3,
   "metadata": {},
   "outputs": [
    {
     "data": {
      "text/plain": [
       "device(type='cuda')"
      ]
     },
     "execution_count": 3,
     "metadata": {},
     "output_type": "execute_result"
    }
   ],
   "source": [
    "device = torch.device('cuda' if torch.cuda.is_available() else 'cpu')\n",
    "device"
   ]
  },
  {
   "cell_type": "code",
   "execution_count": 4,
   "metadata": {},
   "outputs": [],
   "source": [
    "from torch.utils.data import Dataset\n",
    "class myCIFAR10_train():\n",
    "    def __init__(self):\n",
    "        \"\"\"\n",
    "        transform_train = transforms.Compose([\n",
    "            transforms.RandomCrop(32, padding=4),\n",
    "            transforms.RandomHorizontalFlip(),\n",
    "            transforms.ToTensor(),\n",
    "            transforms.Normalize((0.4914, 0.4822, 0.4465), (0.2023, 0.1994, 0.2010)),\n",
    "        ])\n",
    "        \"\"\"\n",
    "        \n",
    "        train_dataset = torchvision.datasets.CIFAR10(root = './data', train = True, \n",
    "                                                     #transform = transform_train, \n",
    "                                                     #transform = transform_tensor,\n",
    "                                                     download = True)\n",
    "        alpha = torch.ones(len(train_dataset))#.to(device)   \n",
    "        dirichlet = Dirichlet(alpha)\n",
    "        weights = dirichlet.sample()\n",
    "        \n",
    "        self.dataset = train_dataset\n",
    "        self.weights = weights\n",
    "    \n",
    "    def __getitem__(self, idx):\n",
    "        data_tuple = self.dataset[idx]\n",
    "        weights = self.weights[idx]\n",
    "        return (data_tuple[0], data_tuple[1], float(weights.numpy()))\n",
    "    \n",
    "    def __len__(self):\n",
    "        return len(self.dataset)\n",
    "\n",
    "class myCIFAR10_test():\n",
    "    def __init__(self):\n",
    "        \"\"\"\n",
    "        transform_test = transforms.Compose([\n",
    "            transforms.ToTensor(),\n",
    "            transforms.Normalize((0.4914, 0.4822, 0.4465), (0.2023, 0.1994, 0.2010)),\n",
    "        ])\n",
    "        \"\"\"\n",
    "        \n",
    "        test_dataset = torchvision.datasets.CIFAR10(root = './data', train = False, \n",
    "                                                     #transform = transform_test, \n",
    "                                                     download = True)\n",
    "        alpha = torch.ones(len(test_dataset))#.to(device)   \n",
    "        dirichlet = Dirichlet(alpha)\n",
    "        weights = dirichlet.sample()\n",
    "        \n",
    "        self.dataset = test_dataset\n",
    "        self.weights = weights\n",
    "    \n",
    "    def __getitem__(self, idx):\n",
    "        data_tuple = self.dataset[idx]\n",
    "        weights = self.weights[idx]\n",
    "        return (data_tuple[0], data_tuple[1], float(weights.numpy()))\n",
    "    \n",
    "    def __len__(self):\n",
    "        return len(self.dataset)"
   ]
  },
  {
   "cell_type": "code",
   "execution_count": 5,
   "metadata": {},
   "outputs": [
    {
     "name": "stdout",
     "output_type": "stream",
     "text": [
      "Files already downloaded and verified\n",
      "Files already downloaded and verified\n"
     ]
    }
   ],
   "source": [
    "batch_size_train = 128\n",
    "batch_size_test = 100\n",
    "train_data = myCIFAR10_train()\n",
    "test_data = myCIFAR10_test()\n",
    "# train_loader = torch.utils.data.DataLoader(dataset= train_data, batch_size = batch_size_train, shuffle = True)\n",
    "# test_loader = torch.utils.data.DataLoader(dataset= test_data, batch_size = batch_size_test, shuffle = False)"
   ]
  },
  {
   "cell_type": "code",
   "execution_count": 6,
   "metadata": {},
   "outputs": [
    {
     "name": "stdout",
     "output_type": "stream",
     "text": [
      "<class 'PIL.Image.Image'>\n",
      "<class 'int'>\n",
      "<class 'float'>\n"
     ]
    }
   ],
   "source": [
    "# train_data[0]\n",
    "print(type(train_data[0][0]))\n",
    "print(type(train_data[0][1]))\n",
    "print(type(train_data[0][2]))\n",
    "#print(train_data[0][2].shape)\n",
    "#print(train_data[0][2].dtype)"
   ]
  },
  {
   "cell_type": "code",
   "execution_count": 7,
   "metadata": {},
   "outputs": [
    {
     "name": "stdout",
     "output_type": "stream",
     "text": [
      "<class 'PIL.Image.Image'>\n",
      "<class 'int'>\n",
      "<class 'float'>\n"
     ]
    }
   ],
   "source": [
    "# test_data[0]\n",
    "print(type(test_data[0][0]))\n",
    "print(type(test_data[0][1]))\n",
    "print(type(test_data[0][2]))\n",
    "#print(test_data[0][2].shape)\n",
    "#print(test_data[0][2].dtype)"
   ]
  },
  {
   "cell_type": "code",
   "execution_count": 8,
   "metadata": {},
   "outputs": [
    {
     "name": "stderr",
     "output_type": "stream",
     "text": [
      "100%|██████████| 50000/50000 [00:00<00:00, 123871.28it/s]\n",
      "100%|██████████| 10000/10000 [00:00<00:00, 33013.82it/s]\n"
     ]
    }
   ],
   "source": [
    "datasets = {\n",
    "    'train': train_data,\n",
    "    'test': test_data\n",
    "}\n",
    "\n",
    "for (name, ds) in datasets.items():\n",
    "    writer = DatasetWriter(f'/tmp/cifar_{name}.beton', {\n",
    "        'image': RGBImageField(),\n",
    "        'label': IntField(),\n",
    "        'weight': FloatField(),\n",
    "    })\n",
    "    writer.from_indexed_dataset(ds)"
   ]
  },
  {
   "cell_type": "code",
   "execution_count": 9,
   "metadata": {},
   "outputs": [],
   "source": [
    "# Note that statistics are wrt to uin8 range, [0,255].\n",
    "CIFAR_MEAN = [125.307, 122.961, 113.8575]\n",
    "CIFAR_STD = [51.5865, 50.847, 51.255]\n",
    "\n",
    "BATCH_SIZE = 512\n",
    "\n",
    "loaders = {}\n",
    "for name in ['train', 'test']:\n",
    "    label_pipeline: List[Operation] = [IntDecoder(), ToTensor(), ToDevice('cuda:0'), Squeeze()]\n",
    "    image_pipeline: List[Operation] = [SimpleRGBImageDecoder()]\n",
    "    weight_pipeline: List[Operation] = [FloatDecoder(), ToTensor(), ToDevice('cuda:0'), Squeeze()]\n",
    "\n",
    "    # Add image transforms and normalization\n",
    "    if name == 'train':\n",
    "        image_pipeline.extend([\n",
    "            RandomHorizontalFlip(),\n",
    "            RandomTranslate(padding=2),\n",
    "            Cutout(8, tuple(map(int, CIFAR_MEAN))), # Note Cutout is done before normalization.\n",
    "        ])\n",
    "    image_pipeline.extend([\n",
    "        ToTensor(),\n",
    "        ToDevice('cuda:0', non_blocking=True),\n",
    "        ToTorchImage(),\n",
    "        Convert(ch.float16),\n",
    "        torchvision.transforms.Normalize(CIFAR_MEAN, CIFAR_STD),\n",
    "    ])\n",
    "\n",
    "    # Create loaders\n",
    "    loaders[name] = Loader(f'/tmp/cifar_{name}.beton',\n",
    "                            batch_size=BATCH_SIZE,\n",
    "                            num_workers=8,\n",
    "                            order=OrderOption.RANDOM,\n",
    "                            drop_last=(name == 'train'),\n",
    "                            pipelines={'image': image_pipeline,\n",
    "                                       'label': label_pipeline,\n",
    "                                       'weight': weight_pipeline\n",
    "                                       })"
   ]
  },
  {
   "cell_type": "code",
   "execution_count": 10,
   "metadata": {},
   "outputs": [],
   "source": [
    "class Mul(ch.nn.Module):\n",
    "    def __init__(self, weight):\n",
    "        super(Mul, self).__init__()\n",
    "        self.weight = weight\n",
    "    def forward(self, x): return x * self.weight\n",
    "\n",
    "class Flatten(ch.nn.Module):\n",
    "    def forward(self, x): return x.view(x.size(0), -1)\n",
    "\n",
    "class Residual(ch.nn.Module):\n",
    "    def __init__(self, module):\n",
    "        super(Residual, self).__init__()\n",
    "        self.module = module\n",
    "    def forward(self, x): return x + self.module(x)\n",
    "\n",
    "def conv_bn(channels_in, channels_out, kernel_size=3, stride=1, padding=1, groups=1):\n",
    "    return ch.nn.Sequential(\n",
    "            ch.nn.Conv2d(channels_in, channels_out,\n",
    "                         kernel_size=kernel_size, stride=stride, padding=padding,\n",
    "                         groups=groups, bias=False),\n",
    "            ch.nn.BatchNorm2d(channels_out),\n",
    "            ch.nn.ReLU(inplace=True)\n",
    "    )\n",
    "\n",
    "NUM_CLASSES = 10\n",
    "model = ch.nn.Sequential(\n",
    "    conv_bn(3, 64, kernel_size=3, stride=1, padding=1),\n",
    "    conv_bn(64, 128, kernel_size=5, stride=2, padding=2),\n",
    "    Residual(ch.nn.Sequential(conv_bn(128, 128), conv_bn(128, 128))),\n",
    "    conv_bn(128, 256, kernel_size=3, stride=1, padding=1),\n",
    "    ch.nn.MaxPool2d(2),\n",
    "    Residual(ch.nn.Sequential(conv_bn(256, 256), conv_bn(256, 256))),\n",
    "    conv_bn(256, 128, kernel_size=3, stride=1, padding=0),\n",
    "    ch.nn.AdaptiveMaxPool2d((1, 1)),\n",
    "    Flatten(),\n",
    "    ch.nn.Linear(128, NUM_CLASSES, bias=False),\n",
    "    Mul(0.2)\n",
    ")\n",
    "model = model.to(memory_format=ch.channels_last).cuda()"
   ]
  },
  {
   "cell_type": "code",
   "execution_count": 11,
   "metadata": {},
   "outputs": [],
   "source": [
    "import numpy as np\n",
    "from torch.cuda.amp import GradScaler, autocast\n",
    "from torch.nn import CrossEntropyLoss\n",
    "from torch.optim import SGD, lr_scheduler\n",
    "\n",
    "EPOCHS = 24\n",
    "\n",
    "opt = SGD(model.parameters(), lr=.5, momentum=0.9, weight_decay=5e-4)\n",
    "iters_per_epoch = 50000 // BATCH_SIZE\n",
    "lr_schedule = np.interp(np.arange((EPOCHS+1) * iters_per_epoch),\n",
    "                        [0, 5 * iters_per_epoch, EPOCHS * iters_per_epoch],\n",
    "                        [0, 1, 0])\n",
    "scheduler = lr_scheduler.LambdaLR(opt, lr_schedule.__getitem__)\n",
    "scaler = GradScaler()\n",
    "loss_fn = CrossEntropyLoss(label_smoothing=0.1)"
   ]
  },
  {
   "cell_type": "code",
   "execution_count": 12,
   "metadata": {},
   "outputs": [
    {
     "name": "stderr",
     "output_type": "stream",
     "text": [
      "100%|██████████| 20/20 [00:03<00:00,  6.12it/s]\n"
     ]
    },
    {
     "name": "stdout",
     "output_type": "stream",
     "text": [
      "Accuracy: 8.8%\n"
     ]
    },
    {
     "name": "stderr",
     "output_type": "stream",
     "text": [
      "100%|██████████| 97/97 [00:11<00:00,  8.10it/s]\n",
      "100%|██████████| 97/97 [00:09<00:00, 10.60it/s]\n",
      "100%|██████████| 97/97 [00:09<00:00, 10.60it/s]\n",
      "100%|██████████| 97/97 [00:09<00:00, 10.46it/s]\n",
      "100%|██████████| 20/20 [00:01<00:00, 17.08it/s]\n"
     ]
    },
    {
     "name": "stdout",
     "output_type": "stream",
     "text": [
      "Accuracy: 66.8%\n"
     ]
    },
    {
     "name": "stderr",
     "output_type": "stream",
     "text": [
      "100%|██████████| 97/97 [00:09<00:00, 10.61it/s]\n",
      "100%|██████████| 97/97 [00:09<00:00, 10.62it/s]\n",
      "100%|██████████| 97/97 [00:09<00:00, 10.48it/s]\n",
      "100%|██████████| 97/97 [00:09<00:00, 10.60it/s]\n",
      "100%|██████████| 20/20 [00:01<00:00, 17.25it/s]\n"
     ]
    },
    {
     "name": "stdout",
     "output_type": "stream",
     "text": [
      "Accuracy: 72.5%\n"
     ]
    },
    {
     "name": "stderr",
     "output_type": "stream",
     "text": [
      "100%|██████████| 97/97 [00:09<00:00, 10.47it/s]\n",
      "100%|██████████| 97/97 [00:09<00:00, 10.55it/s]\n",
      "100%|██████████| 97/97 [00:09<00:00, 10.65it/s]\n",
      "100%|██████████| 97/97 [00:09<00:00, 10.64it/s]\n",
      "100%|██████████| 20/20 [00:01<00:00, 16.96it/s]\n"
     ]
    },
    {
     "name": "stdout",
     "output_type": "stream",
     "text": [
      "Accuracy: 80.7%\n"
     ]
    },
    {
     "name": "stderr",
     "output_type": "stream",
     "text": [
      "100%|██████████| 97/97 [00:09<00:00, 10.60it/s]\n",
      "100%|██████████| 97/97 [00:09<00:00, 10.44it/s]\n",
      "100%|██████████| 97/97 [00:09<00:00, 10.43it/s]\n",
      "100%|██████████| 97/97 [00:09<00:00, 10.52it/s]\n",
      "100%|██████████| 20/20 [00:01<00:00, 16.92it/s]\n"
     ]
    },
    {
     "name": "stdout",
     "output_type": "stream",
     "text": [
      "Accuracy: 82.1%\n"
     ]
    },
    {
     "name": "stderr",
     "output_type": "stream",
     "text": [
      "100%|██████████| 97/97 [00:09<00:00, 10.62it/s]\n",
      "100%|██████████| 97/97 [00:09<00:00, 10.55it/s]\n",
      "100%|██████████| 97/97 [00:09<00:00, 10.56it/s]\n",
      "100%|██████████| 97/97 [00:09<00:00, 10.50it/s]\n",
      "100%|██████████| 20/20 [00:01<00:00, 16.85it/s]\n"
     ]
    },
    {
     "name": "stdout",
     "output_type": "stream",
     "text": [
      "Accuracy: 88.1%\n"
     ]
    },
    {
     "name": "stderr",
     "output_type": "stream",
     "text": [
      "100%|██████████| 97/97 [00:09<00:00, 10.49it/s]\n",
      "100%|██████████| 97/97 [00:09<00:00, 10.56it/s]\n",
      "100%|██████████| 97/97 [00:09<00:00, 10.49it/s]\n",
      "100%|██████████| 97/97 [00:09<00:00, 10.50it/s]\n"
     ]
    },
    {
     "data": {
      "text/plain": [
       "Sequential(\n",
       "  (0): Sequential(\n",
       "    (0): Conv2d(3, 64, kernel_size=(3, 3), stride=(1, 1), padding=(1, 1), bias=False)\n",
       "    (1): BatchNorm2d(64, eps=1e-05, momentum=0.1, affine=True, track_running_stats=True)\n",
       "    (2): ReLU(inplace=True)\n",
       "  )\n",
       "  (1): Sequential(\n",
       "    (0): Conv2d(64, 128, kernel_size=(5, 5), stride=(2, 2), padding=(2, 2), bias=False)\n",
       "    (1): BatchNorm2d(128, eps=1e-05, momentum=0.1, affine=True, track_running_stats=True)\n",
       "    (2): ReLU(inplace=True)\n",
       "  )\n",
       "  (2): Residual(\n",
       "    (module): Sequential(\n",
       "      (0): Sequential(\n",
       "        (0): Conv2d(128, 128, kernel_size=(3, 3), stride=(1, 1), padding=(1, 1), bias=False)\n",
       "        (1): BatchNorm2d(128, eps=1e-05, momentum=0.1, affine=True, track_running_stats=True)\n",
       "        (2): ReLU(inplace=True)\n",
       "      )\n",
       "      (1): Sequential(\n",
       "        (0): Conv2d(128, 128, kernel_size=(3, 3), stride=(1, 1), padding=(1, 1), bias=False)\n",
       "        (1): BatchNorm2d(128, eps=1e-05, momentum=0.1, affine=True, track_running_stats=True)\n",
       "        (2): ReLU(inplace=True)\n",
       "      )\n",
       "    )\n",
       "  )\n",
       "  (3): Sequential(\n",
       "    (0): Conv2d(128, 256, kernel_size=(3, 3), stride=(1, 1), padding=(1, 1), bias=False)\n",
       "    (1): BatchNorm2d(256, eps=1e-05, momentum=0.1, affine=True, track_running_stats=True)\n",
       "    (2): ReLU(inplace=True)\n",
       "  )\n",
       "  (4): MaxPool2d(kernel_size=2, stride=2, padding=0, dilation=1, ceil_mode=False)\n",
       "  (5): Residual(\n",
       "    (module): Sequential(\n",
       "      (0): Sequential(\n",
       "        (0): Conv2d(256, 256, kernel_size=(3, 3), stride=(1, 1), padding=(1, 1), bias=False)\n",
       "        (1): BatchNorm2d(256, eps=1e-05, momentum=0.1, affine=True, track_running_stats=True)\n",
       "        (2): ReLU(inplace=True)\n",
       "      )\n",
       "      (1): Sequential(\n",
       "        (0): Conv2d(256, 256, kernel_size=(3, 3), stride=(1, 1), padding=(1, 1), bias=False)\n",
       "        (1): BatchNorm2d(256, eps=1e-05, momentum=0.1, affine=True, track_running_stats=True)\n",
       "        (2): ReLU(inplace=True)\n",
       "      )\n",
       "    )\n",
       "  )\n",
       "  (6): Sequential(\n",
       "    (0): Conv2d(256, 128, kernel_size=(3, 3), stride=(1, 1), bias=False)\n",
       "    (1): BatchNorm2d(128, eps=1e-05, momentum=0.1, affine=True, track_running_stats=True)\n",
       "    (2): ReLU(inplace=True)\n",
       "  )\n",
       "  (7): AdaptiveMaxPool2d(output_size=(1, 1))\n",
       "  (8): Flatten()\n",
       "  (9): Linear(in_features=128, out_features=10, bias=False)\n",
       "  (10): Mul()\n",
       ")"
      ]
     },
     "execution_count": 12,
     "metadata": {},
     "output_type": "execute_result"
    }
   ],
   "source": [
    "from tqdm import tqdm\n",
    "\n",
    "for ep in range(EPOCHS):\n",
    "\n",
    "    # calculate accuracy\n",
    "    model.eval()\n",
    "    if ep%4==0:\n",
    "        with ch.no_grad():\n",
    "            total_correct, total_num = 0., 0.\n",
    "            for ims, labs, w in tqdm(loaders['test']):\n",
    "                with autocast():\n",
    "                    out = (model(ims) + model(ch.fliplr(ims))) / 2. # Test-time augmentation\n",
    "                    total_correct += out.argmax(1).eq(labs).sum().cpu().item()\n",
    "                    total_num += ims.shape[0]\n",
    "            print(f'Accuracy: {total_correct / total_num * 100:.1f}%')\n",
    "\n",
    "    # model training\n",
    "    model.train()\n",
    "    for ims, labs, w in tqdm(loaders['train']):\n",
    "        opt.zero_grad(set_to_none=True)\n",
    "        with autocast():\n",
    "            out = model(ims)\n",
    "            loss = loss_fn(out, labs)\n",
    "\n",
    "        scaler.scale(loss).backward()\n",
    "        scaler.step(opt)\n",
    "        scaler.update()\n",
    "        scheduler.step()    \n",
    "\n",
    "model.eval()\n"
   ]
  },
  {
   "cell_type": "code",
   "execution_count": 13,
   "metadata": {},
   "outputs": [
    {
     "name": "stderr",
     "output_type": "stream",
     "text": [
      "100%|██████████| 20/20 [00:01<00:00, 17.18it/s]"
     ]
    },
    {
     "name": "stdout",
     "output_type": "stream",
     "text": [
      "Accuracy: 92.2%\n"
     ]
    },
    {
     "name": "stderr",
     "output_type": "stream",
     "text": [
      "\n"
     ]
    }
   ],
   "source": [
    "with ch.no_grad():\n",
    "    total_correct, total_num = 0., 0.\n",
    "    for ims, labs, w in tqdm(loaders['test']):\n",
    "        with autocast():\n",
    "            out = (model(ims) + model(ch.fliplr(ims))) / 2. # Test-time augmentation\n",
    "            total_correct += out.argmax(1).eq(labs).sum().cpu().item()\n",
    "            total_num += ims.shape[0]\n",
    "\n",
    "    print(f'Accuracy: {total_correct / total_num * 100:.1f}%')"
   ]
  }
 ],
 "metadata": {
  "kernelspec": {
   "display_name": "ffcv",
   "language": "python",
   "name": "python3"
  },
  "language_info": {
   "codemirror_mode": {
    "name": "ipython",
    "version": 3
   },
   "file_extension": ".py",
   "mimetype": "text/x-python",
   "name": "python",
   "nbconvert_exporter": "python",
   "pygments_lexer": "ipython3",
   "version": "3.9.17"
  },
  "orig_nbformat": 4
 },
 "nbformat": 4,
 "nbformat_minor": 2
}
